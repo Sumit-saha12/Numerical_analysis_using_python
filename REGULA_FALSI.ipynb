{
  "nbformat": 4,
  "nbformat_minor": 0,
  "metadata": {
    "colab": {
      "name": "REGULA_FALSI.ipynb",
      "provenance": [],
      "authorship_tag": "ABX9TyOoerADWoWvOgqB5Cu7dxAJ",
      "include_colab_link": true
    },
    "kernelspec": {
      "name": "python3",
      "display_name": "Python 3"
    },
    "language_info": {
      "name": "python"
    }
  },
  "cells": [
    {
      "cell_type": "markdown",
      "metadata": {
        "id": "view-in-github",
        "colab_type": "text"
      },
      "source": [
        "<a href=\"https://colab.research.google.com/github/Sumit-saha12/Numerical_analysis_using_python/blob/main/REGULA_FALSI.ipynb\" target=\"_parent\"><img src=\"https://colab.research.google.com/assets/colab-badge.svg\" alt=\"Open In Colab\"/></a>"
      ]
    },
    {
      "cell_type": "markdown",
      "source": [
        "### **REAGULA FALSI**"
      ],
      "metadata": {
        "id": "veItkw7inGtG"
      }
    },
    {
      "cell_type": "code",
      "execution_count": 7,
      "metadata": {
        "colab": {
          "base_uri": "https://localhost:8080/"
        },
        "id": "JEyVB8VWgaOH",
        "outputId": "5b3d7c3a-e13e-461b-91ae-a1c85f75969c"
      },
      "outputs": [
        {
          "output_type": "stream",
          "name": "stdout",
          "text": [
            "ENTER LOWER LIMIT: 2\n",
            "LOWER LIMIT 2\n",
            "UPPER LIMIT 3\n",
            "steps       a<0           b>0            fa                fb            h             xn             f(Xn)\n",
            "\n",
            "  1       2.00000      3.00000         -9.00000         1.00000         0.90000         2.90000         -0.71100\n",
            "  2       2.90000      3.00000         -0.71100         1.00000         0.04155         2.94155         -0.02147\n",
            "  3       2.94155      3.00000         -0.02147         1.00000         0.00123         2.94278         -0.00062\n",
            "  4       2.94278      3.00000         -0.00062         1.00000         0.00004         2.94282         -0.00002\n",
            "the root is Xc= 2.9428189892140617\n"
          ]
        }
      ],
      "source": [
        "\n",
        "\n",
        "def equation(x):\n",
        "    a = (x * x * x) - (9 * x) + 1\n",
        "    return a\n",
        "\n",
        "a= int(input('ENTER LOWER LIMIT: '))\n",
        "l = 1\n",
        " #initial value      \n",
        "b = -1     #new value\n",
        "delta = 1\n",
        "i=a\n",
        "\n",
        "xn=-1\n",
        "\n",
        "while(b==-1.0):    #until find root\n",
        "    \n",
        "    k = equation(i)\n",
        "    if(k>0):\n",
        "      b=i\n",
        "      break\n",
        "    i=i+1\n",
        "\n",
        "\n",
        "\n",
        "print('LOWER LIMIT',a)\n",
        "print('UPPER LIMIT',b)    \n",
        "\n",
        "\n",
        "\n",
        "print('steps       a<0           b>0            fa                fb            h             xn             f(Xn)\\n')\n",
        "while delta >= 0.0001:\n",
        "    x=xn\n",
        "    fa=equation(a)\n",
        "    fb=equation(b)\n",
        "    h=((b-a)*abs(fa))/(abs(fa)+abs(fb)) \n",
        "    xn=a+h \n",
        "    fx = equation(xn)\n",
        "    print(\" \",round(l,2),\"     \",format(a,\".5f\"),\"    \", format(b,\".5f\"),\"       \",format(fa,\".5f\"),\"       \", format(fb,\".5f\"),\"       \", format(h,\".5f\"),\"       \", format(xn,\".5f\"),\"       \", format(fx,\".5f\"))\n",
        "    delta = abs(xn - x)\n",
        "    l = l + 1\n",
        "    if(fx<0):\n",
        "      a=xn\n",
        "    elif(fx>0):\n",
        "      b=xn\n",
        "\n",
        "print('the root is Xc=', xn)"
      ]
    },
    {
      "cell_type": "code",
      "source": [
        "\n",
        "\n",
        "def equation(x):\n",
        "    a = (x * x * x) - (9 * x) + 1\n",
        "    return a\n",
        "\n",
        "a= int(input('ENTER LOWER LIMIT: '))\n",
        "l = 1\n",
        " #initial value      \n",
        "b = -1     #new value\n",
        "delta = 1\n",
        "i=a\n",
        "\n",
        "xn=-1\n",
        "\n",
        "while(b==-1.0):    #until find root\n",
        "    \n",
        "    k = equation(i)\n",
        "    if(k>0):\n",
        "      b=i\n",
        "      break\n",
        "    i=i+1\n",
        "\n",
        "\n",
        "\n",
        "print('LOWER LIMIT',a)\n",
        "print('UPPER LIMIT',b)    \n",
        "\n",
        "\n",
        "\n",
        "print('steps       a<0           b>0            fa                fb            h             xn             f(Xn)\\n')\n",
        "while delta >= 0.00001:\n",
        "    x=xn\n",
        "    fa=equation(a)\n",
        "    fb=equation(b)\n",
        "    h=((b-a)*abs(fa))/(abs(fa)+abs(fb)) \n",
        "    xn=a+h \n",
        "    fx = equation(xn)\n",
        "    print(\" \",round(l,2),\"     \",format(a,\".5f\"),\"    \", format(b,\".5f\"),\"       \",format(fa,\".5f\"),\"       \", format(fb,\".5f\"),\"       \", format(h,\".5f\"),\"       \", format(xn,\".5f\"),\"       \", format(fx,\".5f\"))\n",
        "    delta = abs(xn - x)\n",
        "    l = l + 1\n",
        "    if(fx<0):\n",
        "      a=xn\n",
        "    elif(fx>0):\n",
        "      b=xn\n",
        "\n",
        "print('the root is Xc=', xn)"
      ],
      "metadata": {
        "colab": {
          "base_uri": "https://localhost:8080/"
        },
        "id": "lOG3FmhJnMMW",
        "outputId": "04fd4a0e-7a33-43de-80b5-28c8a0adf3ad"
      },
      "execution_count": 9,
      "outputs": [
        {
          "output_type": "stream",
          "name": "stdout",
          "text": [
            "ENTER LOWER LIMIT: 2\n",
            "LOWER LIMIT 2\n",
            "UPPER LIMIT 3\n",
            "steps       a<0           b>0            fa                fb            h             xn             f(Xn)\n",
            "\n",
            "  1       2.00000      3.00000         -9.00000         1.00000         0.90000         2.90000         -0.71100\n",
            "  2       2.90000      3.00000         -0.71100         1.00000         0.04155         2.94155         -0.02147\n",
            "  3       2.94155      3.00000         -0.02147         1.00000         0.00123         2.94278         -0.00062\n",
            "  4       2.94278      3.00000         -0.00062         1.00000         0.00004         2.94282         -0.00002\n",
            "  5       2.94282      3.00000         -0.00002         1.00000         0.00000         2.94282         -0.00000\n",
            "the root is Xc= 2.94282002675138\n"
          ]
        }
      ]
    }
  ]
}