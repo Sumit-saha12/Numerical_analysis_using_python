{
  "nbformat": 4,
  "nbformat_minor": 0,
  "metadata": {
    "colab": {
      "name": "NEWTON_RAPHSON_SINGLE_VARIABLE.ipynb",
      "provenance": [],
      "authorship_tag": "ABX9TyMTfbkdZ8AZTTf+SDxQN6sI",
      "include_colab_link": true
    },
    "kernelspec": {
      "name": "python3",
      "display_name": "Python 3"
    },
    "language_info": {
      "name": "python"
    }
  },
  "cells": [
    {
      "cell_type": "markdown",
      "metadata": {
        "id": "view-in-github",
        "colab_type": "text"
      },
      "source": [
        "<a href=\"https://colab.research.google.com/github/Sumit-saha12/Numerical_analysis_using_python/blob/main/NEWTON_RAPHSON_SINGLE_VARIABLE.ipynb\" target=\"_parent\"><img src=\"https://colab.research.google.com/assets/colab-badge.svg\" alt=\"Open In Colab\"/></a>"
      ]
    },
    {
      "cell_type": "markdown",
      "source": [
        "## **NEWTON** **RAPHSON**(SINGLE VARIABLE)\n",
        "\n"
      ],
      "metadata": {
        "id": "tt2EX3G5fDCk"
      }
    },
    {
      "cell_type": "code",
      "execution_count": 17,
      "metadata": {
        "colab": {
          "base_uri": "https://localhost:8080/"
        },
        "id": "RTUyEYWpcB0S",
        "outputId": "624bb0cc-fa82-401b-a962-812f407c023a"
      },
      "outputs": [
        {
          "output_type": "stream",
          "name": "stdout",
          "text": [
            "Enter lower limit:2\n",
            "steps         x            fx1           fx2                h               xn\n",
            "  1       2.00000      -9.00000         3.00000         3.00000          5.00000\n",
            "  2       5.00000      81.00000         66.00000         -1.22727          3.77273\n",
            "  3       3.77273      20.74446         33.70041         -0.61556          3.15717\n",
            "  4       3.15717      4.05531         20.90321         -0.19400          2.96317\n",
            "  5       2.96317      0.34918         17.34109         -0.02014          2.94303\n",
            "  6       2.94303      0.00360         16.98431         -0.00021          2.94282\n",
            "the root is xn1= 2.9428200811064027\n"
          ]
        }
      ],
      "source": [
        "def equation(x):\n",
        "    a = (x * x * x) - (9 * x) + 1\n",
        "    return a\n",
        "\n",
        "def dequation(x):\n",
        "    a = 3*x*x - 9\n",
        "    return a\n",
        "\n",
        "x=int(input('Enter lower limit:'))\n",
        "\n",
        "l = 1\n",
        "       #initial_value\n",
        "\n",
        "delta = 1\n",
        "\n",
        "print('steps         x            fx1           fx2                h               xn')\n",
        "while delta >= 0.001:\n",
        "    \n",
        "    fx1 = equation(x)\n",
        "    fx2 = dequation(x)    #middle value\n",
        "    h= -(fx1/fx2)\n",
        "    xn=h+x\n",
        "    print(\" \",round(l,2),\"     \",format(x,\".5f\"),\"    \", format(fx1,\".5f\"),\"       \",format(fx2,\".5f\"),\"       \", format(h,\".5f\"),\"        \",format(xn,\".5f\"))\n",
        "    \n",
        "    delta = abs(xn - x)\n",
        "    l = l + 1\n",
        "    x = xn\n",
        "print('the root is xn1=', xn)"
      ]
    },
    {
      "cell_type": "code",
      "source": [
        "def equation(x):\n",
        "    a = (x * x * x) - (9 * x) + 1\n",
        "    return a\n",
        "\n",
        "def dequation(x):\n",
        "    a = 3*x*x - 9\n",
        "    return a\n",
        "\n",
        "x=int(input('Enter lower limit:'))\n",
        "\n",
        "l = 1\n",
        "       #initial_value\n",
        "\n",
        "delta = 1\n",
        "\n",
        "print('steps         x            fx1           fx2                h               xn')\n",
        "while delta >= 0.0001:\n",
        "    \n",
        "    fx1 = equation(x)\n",
        "    fx2 = dequation(x)    #middle value\n",
        "    h= -(fx1/fx2)\n",
        "    xn=h+x\n",
        "    print(\" \",round(l,2),\"     \",format(x,\".5f\"),\"    \", format(fx1,\".5f\"),\"       \",format(fx2,\".5f\"),\"       \", format(h,\".5f\"),\"        \",format(xn,\".5f\"))\n",
        "    \n",
        "    delta = abs(xn - x)\n",
        "    l = l + 1\n",
        "    x = xn\n",
        "print('the root is xn1=', xn)"
      ],
      "metadata": {
        "colab": {
          "base_uri": "https://localhost:8080/"
        },
        "id": "Y0QM0_ZvfSaD",
        "outputId": "a0401923-b728-4fc3-95c8-91d6f678b9de"
      },
      "execution_count": 16,
      "outputs": [
        {
          "output_type": "stream",
          "name": "stdout",
          "text": [
            "Enter lower limit:2\n",
            "steps         x            fx1           fx2                h               xn\n",
            "  1       2.00000      -9.00000         3.00000         3.00000          5.00000\n",
            "  2       5.00000      81.00000         66.00000         -1.22727          3.77273\n",
            "  3       3.77273      20.74446         33.70041         -0.61556          3.15717\n",
            "  4       3.15717      4.05531         20.90321         -0.19400          2.96317\n",
            "  5       2.96317      0.34918         17.34109         -0.02014          2.94303\n",
            "  6       2.94303      0.00360         16.98431         -0.00021          2.94282\n",
            "  7       2.94282      0.00000         16.98057         -0.00000          2.94282\n",
            "the root is xn1= 2.942820057795839\n"
          ]
        }
      ]
    }
  ]
}